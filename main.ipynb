{
  "nbformat": 4,
  "nbformat_minor": 0,
  "metadata": {
    "colab": {
      "provenance": [],
      "collapsed_sections": []
    },
    "kernelspec": {
      "name": "python3",
      "display_name": "Python 3"
    },
    "language_info": {
      "name": "python"
    }
  },
  "cells": [
    {
      "cell_type": "markdown",
      "source": [
        "AI able to detect Rock paper scissors\n",
        "\n",
        "Informations on the dataset are available on the link:\n",
        "https://www.kaggle.com/datasets/sanikamal/rock-paper-scissors-dataset\n",
        "\n",
        "Help can be found on \n",
        "https://medium.com/geekculture/rock-paper-scissors-image-classification-using-cnn-eefe4569b415\n",
        "https://studymachinelearning.com/keras-imagedatagenerator-with-flow_from_directory/\n",
        "\n",
        "\n"
      ],
      "metadata": {
        "id": "UnlEwK9SDCKU"
      }
    },
    {
      "cell_type": "markdown",
      "source": [
        "Import the libraries "
      ],
      "metadata": {
        "id": "lvVn0ReHDMY9"
      }
    },
    {
      "cell_type": "code",
      "execution_count": 5,
      "metadata": {
        "id": "Stf4Jv7A9fM2"
      },
      "outputs": [],
      "source": [
        "import tensorflow as tf \n",
        "import zipfile\n",
        "import os \n",
        "import matplotlib.pyplot as plt \n",
        "import numpy as np \n",
        "import matplotlib.image as mpimp \n",
        "from tensorflow.keras.preprocessing.image import ImageDataGenerator\n",
        "from sklearn.metrics import classification_report, confusion_matrix\n",
        "from google.colab import files\n",
        "from keras.preprocessing import image\n",
        "from keras.callbacks import ReduceLROnPlateau "
      ]
    },
    {
      "cell_type": "markdown",
      "source": [
        "Kaggle stuff"
      ],
      "metadata": {
        "id": "WmF0bzlkDQnu"
      }
    },
    {
      "cell_type": "code",
      "source": [
        "! pip install kaggle\n",
        "! mkdir ~/.kaggle\n",
        "! cp kaggle.json ~/.kaggle/\n",
        "! chmod 600 ~/.kaggle/kaggle.json"
      ],
      "metadata": {
        "colab": {
          "base_uri": "https://localhost:8080/"
        },
        "id": "jtm9WilD-9xn",
        "outputId": "067f21b5-c0ce-4be8-eedf-34955ccf7374"
      },
      "execution_count": 6,
      "outputs": [
        {
          "output_type": "stream",
          "name": "stdout",
          "text": [
            "Looking in indexes: https://pypi.org/simple, https://us-python.pkg.dev/colab-wheels/public/simple/\n",
            "Requirement already satisfied: kaggle in /usr/local/lib/python3.7/dist-packages (1.5.12)\n",
            "Requirement already satisfied: requests in /usr/local/lib/python3.7/dist-packages (from kaggle) (2.23.0)\n",
            "Requirement already satisfied: certifi in /usr/local/lib/python3.7/dist-packages (from kaggle) (2022.9.24)\n",
            "Requirement already satisfied: urllib3 in /usr/local/lib/python3.7/dist-packages (from kaggle) (1.24.3)\n",
            "Requirement already satisfied: tqdm in /usr/local/lib/python3.7/dist-packages (from kaggle) (4.64.1)\n",
            "Requirement already satisfied: six>=1.10 in /usr/local/lib/python3.7/dist-packages (from kaggle) (1.15.0)\n",
            "Requirement already satisfied: python-dateutil in /usr/local/lib/python3.7/dist-packages (from kaggle) (2.8.2)\n",
            "Requirement already satisfied: python-slugify in /usr/local/lib/python3.7/dist-packages (from kaggle) (6.1.2)\n",
            "Requirement already satisfied: text-unidecode>=1.3 in /usr/local/lib/python3.7/dist-packages (from python-slugify->kaggle) (1.3)\n",
            "Requirement already satisfied: chardet<4,>=3.0.2 in /usr/local/lib/python3.7/dist-packages (from requests->kaggle) (3.0.4)\n",
            "Requirement already satisfied: idna<3,>=2.5 in /usr/local/lib/python3.7/dist-packages (from requests->kaggle) (2.10)\n",
            "mkdir: cannot create directory ‘/root/.kaggle’: File exists\n"
          ]
        }
      ]
    },
    {
      "cell_type": "code",
      "source": [
        "! kaggle datasets download -d sanikamal/rock-paper-scissors-dataset"
      ],
      "metadata": {
        "colab": {
          "base_uri": "https://localhost:8080/"
        },
        "id": "povS-fJ7BSYF",
        "outputId": "af7d671d-dbaf-49e7-ca3a-1dce388d7ef3"
      },
      "execution_count": 7,
      "outputs": [
        {
          "output_type": "stream",
          "name": "stdout",
          "text": [
            "Downloading rock-paper-scissors-dataset.zip to /content\n",
            " 98% 441M/452M [00:03<00:00, 124MB/s]\n",
            "100% 452M/452M [00:03<00:00, 148MB/s]\n"
          ]
        }
      ]
    },
    {
      "cell_type": "code",
      "source": [
        "local_zip = '/content/rock-paper-scissors-dataset.zip'\n",
        "zip_ref = zipfile.ZipFile(local_zip, 'r')\n",
        "zip_ref.extractall('/tmp')\n",
        "zip_ref.close()\n",
        "base_dir = '/tmp/Rock-Paper-Scissors/'\n"
      ],
      "metadata": {
        "id": "f0x-zf-KB9DD"
      },
      "execution_count": 8,
      "outputs": []
    },
    {
      "cell_type": "code",
      "source": [
        "train_dir = os.path.join(base_dir, 'train')\n",
        "validation_dir = os.path.join(base_dir, 'validation')\n",
        "test_dir = os.path.join(base_dir, 'test')"
      ],
      "metadata": {
        "id": "oFQv85vIMC5w"
      },
      "execution_count": 9,
      "outputs": []
    },
    {
      "cell_type": "code",
      "source": [
        "# visualisation of our images of papers\n",
        "path_train_paper = os.path.join(train_dir, 'paper')\n",
        "names_images = os.listdir(path_train_paper)\n",
        "\n",
        "nb_images = 3\n",
        "fig, ax = plt.subplots(nb_images, nb_images)\n",
        "\n",
        "for i in range(nb_images):\n",
        "  for j in range(nb_images):\n",
        "    pth = os.path.join(path_train_paper, names_images[i+j])\n",
        "    ax[i, j].imshow(mpimp.imread(pth))\n",
        "    ax[i, j].set_title(f\"{i+j}\")\n"
      ],
      "metadata": {
        "colab": {
          "base_uri": "https://localhost:8080/",
          "height": 281
        },
        "id": "5P04cWXQmk4Z",
        "outputId": "abe61989-28c2-421b-9f3c-79c84e86096d"
      },
      "execution_count": 10,
      "outputs": [
        {
          "output_type": "display_data",
          "data": {
            "text/plain": [
              "<Figure size 432x288 with 9 Axes>"
            ],
            "image/png": "[encoded data removed]"
          },
          "metadata": {
            "needs_background": "light"
          }
        }
      ]
    },
    {
      "cell_type": "code",
      "source": [
        "# preprocess data\n",
        "\n",
        "train_datagen = ImageDataGenerator(rescale=1./255.,\n",
        "                                   rotation_range=20,\n",
        "                                   horizontal_flip=True,\n",
        "                                   height_shift_range=0.05, \n",
        "                                   width_shift_range=0.05, \n",
        "                                   shear_range = 0.1,\n",
        "                                   fill_mode = 'nearest', \n",
        "                                   validation_split=0.2\n",
        "                                   )\n",
        "\n",
        "validation_datagen = ImageDataGenerator(rescale=1./255.,\n",
        "                                        validation_split=0.2\n",
        "                                        )\n",
        "\n",
        "test_datagen = ImageDataGenerator(rescale=1./255.)"
      ],
      "metadata": {
        "id": "0CDXcu9DCbBv"
      },
      "execution_count": 17,
      "outputs": []
    },
    {
      "cell_type": "code",
      "source": [
        "# prepare the flow\n",
        "\n",
        "# training\n",
        "train_generation = train_datagen \\\n",
        "                   .flow_from_directory(directory=train_dir,\n",
        "                                        target_size=(300, 300), \n",
        "                                        batch_size=4, \n",
        "                                        class_mode='categorical', \n",
        "                                        shuffle=True,\n",
        "                                        subset=\"training\"\n",
        "                                        )\n",
        "# validation   \n",
        "validation_generation = train_datagen \\\n",
        "                        .flow_from_directory(directory=train_dir,\n",
        "                                             target_size=(300, 300), \n",
        "                                             batch_size=4, \n",
        "                                             class_mode='categorical', \n",
        "                                             shuffle=True, \n",
        "                                             subset=\"validation\")"
      ],
      "metadata": {
        "id": "oc11nz9SLysW",
        "colab": {
          "base_uri": "https://localhost:8080/"
        },
        "outputId": "b9a223d8-40e9-43ba-c9e0-ce354c7be794"
      },
      "execution_count": 34,
      "outputs": [
        {
          "output_type": "stream",
          "name": "stdout",
          "text": [
            "Found 2016 images belonging to 3 classes.\n",
            "Found 504 images belonging to 3 classes.\n"
          ]
        }
      ]
    },
    {
      "cell_type": "code",
      "source": [
        "# now define our convulotional neural network \n",
        "\n",
        "class Model(tf.keras.Model):\n",
        "  \"\"\"\n",
        "  Definition of the model use\n",
        "  \"\"\"\n",
        "\n",
        "  def __init__(self):\n",
        "    \"\"\"\n",
        "    Initializaiton of our model \n",
        "    \"\"\"\n",
        "    super().__init__()\n",
        "    # first layer\n",
        "    self.conv1 = tf.keras.layers.Conv2D(input_shape=(300, 300, 3), \n",
        "                                        filters=16, \n",
        "                                        kernel_size=(3, 3), \n",
        "                                        kernel_initializer='glorot_uniform', \n",
        "                                        activation='relu', \n",
        "                                        name='conv1'\n",
        "                                        )\n",
        "    self.pool1 = tf.keras.layers.MaxPooling2D(2, 2, name='pool1')\n",
        "    self.drop1 = tf.keras.layers.Dropout(0.2, name='drop1')\n",
        "\n",
        "    # second layer \n",
        "    self.conv2 = tf.keras.layers.Conv2D(filters=16, \n",
        "                                        kernel_size=(3, 3), \n",
        "                                        kernel_initializer='glorot_uniform', \n",
        "                                        activation='relu', \n",
        "                                        name='conv2'\n",
        "                                        )\n",
        "    self.pool2 = tf.keras.layers.MaxPooling2D(2, 2, name='pool2')\n",
        "    self.drop2 = tf.keras.layers.Dropout(0.2, name='drop2')\n",
        "\n",
        "    # third layer\n",
        "    self.conv3 = tf.keras.layers.Conv2D(filters=32, \n",
        "                                        kernel_size=(3, 3), \n",
        "                                        kernel_initializer='glorot_uniform', \n",
        "                                        activation='relu', \n",
        "                                        name='conv1'\n",
        "                                        )\n",
        "    self.pool3 = tf.keras.layers.MaxPooling2D(2, 2, name='pool3')\n",
        "    self.drop3 = tf.keras.layers.Dropout(0.2, name='drop3')\n",
        "\n",
        "    # flatten\n",
        "    self.flat = tf.keras.layers.Flatten(name='flatten')\n",
        "\n",
        "    # dense layers\n",
        "    self.dense1 = tf.keras.layers.Dense(64, activation='relu', name='dense1')\n",
        "    self.dense2 = tf.keras.layers.Dense(3, activation='softmax', name='dense2')\n",
        "\n",
        "  def call(self, input, training=False):\n",
        "\n",
        "    # conv layer 1 \n",
        "    output = self.conv1(input)\n",
        "    output = self.pool1(output)\n",
        "    if training:\n",
        "      output = self.drop1(output)\n",
        "\n",
        "    # conv layer 2\n",
        "    output = self.conv2(output)\n",
        "    output = self.pool2(output)\n",
        "    if training:\n",
        "      output = self.drop2(output)\n",
        "\n",
        "    # conv layer 3 \n",
        "    output = self.conv3(output)\n",
        "    output = self.pool3(output)\n",
        "    if training:\n",
        "      output = self.drop3(output)\n",
        "\n",
        "    # flat\n",
        "    output = self.flat(output)\n",
        "\n",
        "    # dense layers\n",
        "    output = self.dense1(output)\n",
        "    output = self.dense2(output)\n",
        "\n",
        "    return output"
      ],
      "metadata": {
        "id": "gxbF1bGju2uh"
      },
      "execution_count": 19,
      "outputs": []
    },
    {
      "cell_type": "code",
      "source": [
        "tf.config.run_functions_eagerly(False)\n",
        "\n",
        "# definition of the model\n",
        "my_model = Model()"
      ],
      "metadata": {
        "id": "-9-8d0VX4cI8"
      },
      "execution_count": 35,
      "outputs": []
    },
    {
      "cell_type": "code",
      "source": [
        "# training lasts about one hour\n",
        "\n",
        "callback = ReduceLROnPlateau(monitor='val_accuracy',\n",
        "                             patience=2,\n",
        "                             factor=0.5,\n",
        "                             min_lr=0.000003)\n",
        "\n",
        "my_model.compile(loss='categorical_crossentropy',\n",
        "                 optimizer='adam', \n",
        "                 metrics=['accuracy'] \n",
        "                 )\n",
        "\n",
        "my_model.fit(train_generation, \n",
        "             epochs=15, \n",
        "             validation_data=validation_generation, \n",
        "             callbacks=[callback]\n",
        "             )"
      ],
      "metadata": {
        "colab": {
          "base_uri": "https://localhost:8080/"
        },
        "id": "XU-PWIIm8693",
        "outputId": "2cb313c2-8ca8-4f4a-ef48-cd7e7ebf2f7e"
      },
      "execution_count": 21,
      "outputs": [
        {
          "output_type": "stream",
          "name": "stdout",
          "text": [
            "Epoch 1/15\n",
            "504/504 [==============================] - 229s 452ms/step - loss: 0.8696 - accuracy: 0.6012 - val_loss: 0.7892 - val_accuracy: 0.6151 - lr: 0.0010\n",
            "Epoch 2/15\n",
            "504/504 [==============================] - 225s 446ms/step - loss: 0.2002 - accuracy: 0.9325 - val_loss: 0.8719 - val_accuracy: 0.7302 - lr: 0.0010\n",
            "Epoch 3/15\n",
            "504/504 [==============================] - 226s 447ms/step - loss: 0.0875 - accuracy: 0.9697 - val_loss: 0.3909 - val_accuracy: 0.8492 - lr: 0.0010\n",
            "Epoch 4/15\n",
            "504/504 [==============================] - 226s 449ms/step - loss: 0.0733 - accuracy: 0.9762 - val_loss: 0.3749 - val_accuracy: 0.8452 - lr: 0.0010\n",
            "Epoch 5/15\n",
            "504/504 [==============================] - 226s 447ms/step - loss: 0.0988 - accuracy: 0.9658 - val_loss: 0.2327 - val_accuracy: 0.9087 - lr: 0.0010\n",
            "Epoch 6/15\n",
            "504/504 [==============================] - 231s 457ms/step - loss: 0.0479 - accuracy: 0.9826 - val_loss: 0.2727 - val_accuracy: 0.8988 - lr: 0.0010\n",
            "Epoch 7/15\n",
            "504/504 [==============================] - 226s 448ms/step - loss: 0.0328 - accuracy: 0.9901 - val_loss: 0.3000 - val_accuracy: 0.8651 - lr: 0.0010\n",
            "Epoch 8/15\n",
            "504/504 [==============================] - 225s 445ms/step - loss: 0.0245 - accuracy: 0.9940 - val_loss: 0.1804 - val_accuracy: 0.9365 - lr: 5.0000e-04\n",
            "Epoch 9/15\n",
            "504/504 [==============================] - 225s 447ms/step - loss: 0.0187 - accuracy: 0.9940 - val_loss: 0.2392 - val_accuracy: 0.9087 - lr: 5.0000e-04\n",
            "Epoch 10/15\n",
            "504/504 [==============================] - ETA: 0s - loss: 0.0147 - accuracy: 0.9960Epoch 11/15\n",
            "504/504 [==============================] - 225s 446ms/step - loss: 0.0165 - accuracy: 0.9950 - val_loss: 0.1215 - val_accuracy: 0.9524 - lr: 2.5000e-04\n",
            "Epoch 12/15\n",
            "504/504 [==============================] - 227s 451ms/step - loss: 0.0074 - accuracy: 0.9970 - val_loss: 0.2131 - val_accuracy: 0.9266 - lr: 2.5000e-04\n",
            "Epoch 13/15\n",
            "504/504 [==============================] - 228s 453ms/step - loss: 0.0094 - accuracy: 0.9970 - val_loss: 0.1861 - val_accuracy: 0.9306 - lr: 2.5000e-04\n",
            "Epoch 14/15\n",
            "504/504 [==============================] - 228s 452ms/step - loss: 0.0035 - accuracy: 0.9985 - val_loss: 0.2728 - val_accuracy: 0.8929 - lr: 1.2500e-04\n",
            "Epoch 15/15\n",
            "504/504 [==============================] - 242s 480ms/step - loss: 0.0030 - accuracy: 0.9990 - val_loss: 0.2694 - val_accuracy: 0.9048 - lr: 1.2500e-04\n"
          ]
        },
        {
          "output_type": "execute_result",
          "data": {
            "text/plain": [
              "<keras.callbacks.History at 0x7f6efc61b050>"
            ]
          },
          "metadata": {},
          "execution_count": 21
        }
      ]
    },
    {
      "cell_type": "code",
      "source": [
        "# flow for test\n",
        "test_generation = test_datagen.flow_from_directory(test_dir, \n",
        "                                                   target_size=(300, 300), \n",
        "                                                   batch_size=4, \n",
        "                                                   class_mode='categorical',\n",
        "                                                   shuffle = False)\n",
        "\n",
        "# prediction of the model\n",
        "Y_pred = my_model.predict(test_generation, 372 //4)\n",
        "y_pred = np.argmax(Y_pred, axis=1)\n",
        "\n",
        "# classification report\n",
        "print('\\n\\nClassification Report\\n')\n",
        "target_names = ['Rock', 'Paper', 'Scissors']\n",
        "print(classification_report(test_generation.classes, y_pred, target_names=target_names))"
      ],
      "metadata": {
        "colab": {
          "base_uri": "https://localhost:8080/"
        },
        "id": "ASCFmAtWmssc",
        "outputId": "f4400275-846f-45b5-9de8-ba95c845ca06"
      },
      "execution_count": 32,
      "outputs": [
        {
          "output_type": "stream",
          "name": "stdout",
          "text": [
            "Found 372 images belonging to 3 classes.\n",
            "93/93 [==============================] - 10s 105ms/step\n",
            "\n",
            "\n",
            "Classification Report\n",
            "\n",
            "              precision    recall  f1-score   support\n",
            "\n",
            "        Rock       0.98      0.95      0.97       124\n",
            "       Paper       1.00      0.98      0.99       124\n",
            "    Scissors       0.94      0.98      0.96       124\n",
            "\n",
            "    accuracy                           0.97       372\n",
            "   macro avg       0.97      0.97      0.97       372\n",
            "weighted avg       0.97      0.97      0.97       372\n",
            "\n"
          ]
        }
      ]
    }
  ]
}